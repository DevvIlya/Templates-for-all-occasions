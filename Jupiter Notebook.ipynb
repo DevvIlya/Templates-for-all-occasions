{
 "cells": [
  {
   "cell_type": "markdown",
   "metadata": {},
   "source": [
    "**_1. Создание виртуальной среды для Jupyter:_**\n"
   ]
  },
  {
   "cell_type": "code",
   "execution_count": null,
   "metadata": {},
   "outputs": [],
   "source": [
    "\n",
    "`sudo -H pip3 install --upgrade pip\n",
    "sudo -H pip3 install virtualenv'"
   ]
  },
  {
   "cell_type": "markdown",
   "metadata": {},
   "source": [
    "\n",
    "Флаг -H устанавливает в переменной среды home домашний каталог целевого пользователя.\n"
   ]
  },
  {
   "cell_type": "markdown",
   "metadata": {},
   "source": [
    "\n",
    "**_2. Создание отдельного каталога для файлов проекта и перейдите в него:_**"
   ]
  },
  {
   "cell_type": "code",
   "execution_count": null,
   "metadata": {},
   "outputs": [],
   "source": [
    "\n",
    "mkdir ~/my_project_dir\n",
    "cd ~/my_project_dir\n"
   ]
  },
  {
   "cell_type": "markdown",
   "metadata": {},
   "source": [
    "\n",
    "**_3. В этом каталоге создайте виртуальную среду Python:_**\n",
    "\n",
    "`virtualenv my_project_env`\n",
    "\n",
    "**_4. Активировать виртуальную среду:_**\n",
    "\n",
    "`source my_project_env/bin/activate`\n",
    "\n",
    "**_5. Запуск Jupyter Notebook_**\n",
    "\n",
    "`jupyter notebook`\n",
    "\n",
    "в конце лога будет ссылка. Перейти по ней или открыть в браузере\n",
    "\n",
    "**_Сменить тему в Jupyter Notebook:_**\n",
    "\n",
    "`jt -l\n",
    "jt -t <new_thema> -T -N -kl`\n",
    "\n",
    "Перезапустить"
   ]
  }
 ],
 "metadata": {
  "kernelspec": {
   "display_name": "Python 3.8.10 64-bit",
   "language": "python",
   "name": "python3"
  },
  "language_info": {
   "name": "python",
   "version": "3.8.10"
  },
  "orig_nbformat": 4,
  "vscode": {
   "interpreter": {
    "hash": "916dbcbb3f70747c44a77c7bcd40155683ae19c65e1c03b4aa3499c5328201f1"
   }
  }
 },
 "nbformat": 4,
 "nbformat_minor": 2
}
